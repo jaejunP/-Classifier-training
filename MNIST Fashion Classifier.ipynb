{
 "cells": [
  {
   "cell_type": "code",
   "execution_count": 83,
   "id": "8c4aa850",
   "metadata": {},
   "outputs": [],
   "source": [
    "#classification에 필요한 라이브러리 불러오기\n",
    "import torch\n",
    "import torch.nn as nn\n",
    "from torch.autograd import Variable\n",
    "#torch.autograd 라이브러리 내에 있는 Variable 함수를 사용하겠다는 의미\n",
    "\n",
    "import numpy as np\n",
    "import pandas as np\n",
    "import matplotlib.pyplot as plt\n",
    "\n",
    "import torchvision\n",
    "import torchvision.transforms as transforms\n",
    "from torch.utils.data import Dataset, DataLoader\n",
    "from sklearn.metrics import confusion_matrix"
   ]
  },
  {
   "cell_type": "code",
   "execution_count": 84,
   "id": "ce81e630",
   "metadata": {},
   "outputs": [],
   "source": [
    "device = torch.device(\"cuda:0\" if torch.cuda.is_available() else \"cpu\")"
   ]
  },
  {
   "cell_type": "code",
   "execution_count": 85,
   "id": "e7c69b2f",
   "metadata": {},
   "outputs": [],
   "source": [
    "#torchvision을 이용해 MNIST Fashion 데이터를 불러오기\n",
    "train_set = torchvision.datasets.FashionMNIST(\"./data\",\n",
    "                                              download=True,\n",
    "                                              transform = transforms.Compose([transforms.ToTensor()]))\n",
    "test_set = torchvision.datasets.FashionMNIST(\"./data\",\n",
    "                                            download=True, train=False,\n",
    "                                            transform = transforms.Compose([transforms.ToTensor()]))"
   ]
  },
  {
   "cell_type": "code",
   "execution_count": 86,
   "id": "de64d89e",
   "metadata": {},
   "outputs": [],
   "source": [
    "#train_loader, test_loader 불러오기\n",
    "train_loader = torch.utils.data.DataLoader(train_set, batch_size = 100)\n",
    "test_loader = torch.utils.data.DataLoader(test_set, batch_size = 100)"
   ]
  },
  {
   "cell_type": "code",
   "execution_count": 87,
   "id": "ee99b2e6",
   "metadata": {},
   "outputs": [],
   "source": [
    "#데이터셋에 대한 라벨링\n",
    "def output_label(label):\n",
    "    output_mapping = {\n",
    "        0: \"T-shirt/Top\",\n",
    "        1: \"Trouser\",\n",
    "        2: \"Pullover\",\n",
    "        3: \"Dress\",\n",
    "        4: \"Coat\",\n",
    "        5: \"Sandal\",\n",
    "        6: \"Shirt\",\n",
    "        7: \"Snearker\",\n",
    "        8: \"Bag\",\n",
    "        9: \"Ankle Boot\"        \n",
    "    }\n",
    "    input = (label.item() if type(label) == torch.Tensor else label)\n",
    "    return output_mapping[input]"
   ]
  },
  {
   "cell_type": "code",
   "execution_count": 88,
   "id": "1c137450",
   "metadata": {},
   "outputs": [
    {
     "data": {
      "text/plain": [
       "torch.Size([100, 1, 28, 28])"
      ]
     },
     "execution_count": 88,
     "metadata": {},
     "output_type": "execute_result"
    }
   ],
   "source": [
    "a = next(iter(train_loader))\n",
    "a[0].size()"
   ]
  },
  {
   "cell_type": "code",
   "execution_count": 89,
   "id": "30a8df3b",
   "metadata": {},
   "outputs": [
    {
     "data": {
      "text/plain": [
       "60000"
      ]
     },
     "execution_count": 89,
     "metadata": {},
     "output_type": "execute_result"
    }
   ],
   "source": [
    "len(train_set)"
   ]
  },
  {
   "cell_type": "code",
   "execution_count": 90,
   "id": "8075299d",
   "metadata": {},
   "outputs": [
    {
     "data": {
      "text/plain": [
       "10000"
      ]
     },
     "execution_count": 90,
     "metadata": {},
     "output_type": "execute_result"
    }
   ],
   "source": [
    "len(test_set)"
   ]
  },
  {
   "cell_type": "code",
   "execution_count": 91,
   "id": "e2df0af1",
   "metadata": {},
   "outputs": [
    {
     "name": "stdout",
     "output_type": "stream",
     "text": [
      "9\n"
     ]
    },
    {
     "data": {
      "image/png": "[encoded data removed]",
      "text/plain": [
       "<Figure size 432x288 with 1 Axes>"
      ]
     },
     "metadata": {
      "needs_background": "light"
     },
     "output_type": "display_data"
    }
   ],
   "source": [
    "#데이터셋이 어떤 데이터셋을 가지고 있는지 시각화\n",
    "#matplotlib.pyplot을 시각화에 이용함\n",
    "image, label = next(iter(train_set))\n",
    "plt.imshow(image.squeeze(), cmap='gray')\n",
    "print(label)"
   ]
  },
  {
   "cell_type": "code",
   "execution_count": 92,
   "id": "46138f57",
   "metadata": {},
   "outputs": [],
   "source": [
    "#CNN 모델을 구성하기\n",
    "class CNN(nn.Module):\n",
    "    \n",
    "    def __init__(self):\n",
    "        super(CNN, self).__init__()\n",
    "        \n",
    "        self.layer1 = nn.Sequential(\n",
    "            nn.Conv2d(in_channels=1, out_channels=32, kernel_size=3, padding=1),\n",
    "            nn.BatchNorm2d(32),\n",
    "            nn.ReLU(),\n",
    "            nn.MaxPool2d(kernel_size=2, stride=2)\n",
    "        )\n",
    "        \n",
    "        self.layer2 = nn.Sequential(\n",
    "            nn.Conv2d(in_channels=32, out_channels=64, kernel_size=3),\n",
    "            nn.BatchNorm2d(64),\n",
    "            nn.ReLU(),\n",
    "            nn.MaxPool2d(2)\n",
    "        )\n",
    "        #전 연결\n",
    "        self.fc1=nn.Linear(in_features=64*6*6, out_features=600)\n",
    "        self.drop = nn.Dropout2d(0, 25)\n",
    "        self.fc2 = nn.Linear(in_features = 600, out_features=120)\n",
    "        self.fc3 = nn.Linear(in_features = 120, out_features=10)\n",
    "        \n",
    "    def forward(self, x):\n",
    "        out = self.layer1(x)\n",
    "        out = self.layer2(out)\n",
    "        out = out.view(out.size(0), -1)\n",
    "        out = self.fc1(out)\n",
    "        out = self.drop(out)\n",
    "        out = self.fc2(out)\n",
    "        out = self.fc3(out)\n",
    "        \n",
    "        return out"
   ]
  },
  {
   "cell_type": "code",
   "execution_count": 93,
   "id": "d7112afd",
   "metadata": {},
   "outputs": [
    {
     "name": "stdout",
     "output_type": "stream",
     "text": [
      "CNN(\n",
      "  (layer1): Sequential(\n",
      "    (0): Conv2d(1, 32, kernel_size=(3, 3), stride=(1, 1), padding=(1, 1))\n",
      "    (1): BatchNorm2d(32, eps=1e-05, momentum=0.1, affine=True, track_running_stats=True)\n",
      "    (2): ReLU()\n",
      "    (3): MaxPool2d(kernel_size=2, stride=2, padding=0, dilation=1, ceil_mode=False)\n",
      "  )\n",
      "  (layer2): Sequential(\n",
      "    (0): Conv2d(32, 64, kernel_size=(3, 3), stride=(1, 1))\n",
      "    (1): BatchNorm2d(64, eps=1e-05, momentum=0.1, affine=True, track_running_stats=True)\n",
      "    (2): ReLU()\n",
      "    (3): MaxPool2d(kernel_size=2, stride=2, padding=0, dilation=1, ceil_mode=False)\n",
      "  )\n",
      "  (fc1): Linear(in_features=2304, out_features=600, bias=True)\n",
      "  (drop): Dropout2d(p=0, inplace=25)\n",
      "  (fc2): Linear(in_features=600, out_features=120, bias=True)\n",
      "  (fc3): Linear(in_features=120, out_features=10, bias=True)\n",
      ")\n"
     ]
    }
   ],
   "source": [
    "#모델 구조 파악하기 / 사실 잘 사용하지는 않음\n",
    "# torchsummary를 더 잘 사용함\n",
    "model = CNN()\n",
    "model.to(device) #GPU 연산이 가능하도록 .to(advice)\n",
    "\n",
    "error = nn.CrossEntropyLoss()\n",
    "\n",
    "learning_rate= 0.001\n",
    "optimizer = torch.optim.Adam(model.parameters(), lr=learning_rate)\n",
    "print(model)"
   ]
  },
  {
   "cell_type": "code",
   "execution_count": 94,
   "id": "7025beef",
   "metadata": {},
   "outputs": [
    {
     "name": "stdout",
     "output_type": "stream",
     "text": [
      "iteration:500, Loss:2.30466365814209, Accuracy: 12.059999465942383%\n",
      "iteration:1000, Loss:2.3125510215759277, Accuracy: 12.059999465942383%\n",
      "iteration:1500, Loss:2.2640280723571777, Accuracy: 12.059999465942383%\n",
      "iteration:2000, Loss:2.2752857208251953, Accuracy: 12.059999465942383%\n",
      "iteration:2500, Loss:2.2985618114471436, Accuracy: 12.059999465942383%\n",
      "iteration:3000, Loss:2.269038438796997, Accuracy: 12.059999465942383%\n",
      "iteration:3500, Loss:2.30466365814209, Accuracy: 12.059999465942383%\n",
      "iteration:4000, Loss:2.3125510215759277, Accuracy: 12.059999465942383%\n",
      "iteration:4500, Loss:2.2640280723571777, Accuracy: 12.059999465942383%\n",
      "iteration:5000, Loss:2.2752857208251953, Accuracy: 12.059999465942383%\n",
      "iteration:5500, Loss:2.2985618114471436, Accuracy: 12.059999465942383%\n",
      "iteration:6000, Loss:2.269038438796997, Accuracy: 12.059999465942383%\n",
      "iteration:6500, Loss:2.30466365814209, Accuracy: 12.059999465942383%\n",
      "iteration:7000, Loss:2.3125510215759277, Accuracy: 12.059999465942383%\n",
      "iteration:7500, Loss:2.2640280723571777, Accuracy: 12.059999465942383%\n",
      "iteration:8000, Loss:2.2752857208251953, Accuracy: 12.059999465942383%\n",
      "iteration:8500, Loss:2.2985618114471436, Accuracy: 12.059999465942383%\n",
      "iteration:9000, Loss:2.269038438796997, Accuracy: 12.059999465942383%\n"
     ]
    }
   ],
   "source": [
    "#training\n",
    "\n",
    "num_epochs = 15\n",
    "count = 0\n",
    "\n",
    "#실행에 필요한 loss, iteration, accuracy 시각화를 하기 위해 list 형태로 초기화\n",
    "loss_list=[]\n",
    "iteration_list =[]\n",
    "accuracy_list =[]\n",
    "\n",
    "#list 형태로 초기화를 하는 과정\n",
    "predictions_list =[]\n",
    "labels_list =[]\n",
    "\n",
    "#epoch만큼 반복훈련이 실행됨\n",
    "for epoch in range(num_epochs):\n",
    "    for images, labels in train_loader:\n",
    "        images, labels = images.to(device), labels.to(device)\n",
    "        \n",
    "        train = Variable(images.view(100, 1, 28, 28))\n",
    "        labels = Variable(labels)\n",
    "        \n",
    "        outputs = model(train)\n",
    "        loss = error(outputs, labels)\n",
    "        \n",
    "        optimizer.zero_grad()\n",
    "        \n",
    "        loss.backward()\n",
    "        \n",
    "        count +=1\n",
    "        \n",
    "        if not (count %50):\n",
    "            total = 0\n",
    "            correct = 0\n",
    "            \n",
    "            for images, labels in test_loader:\n",
    "                images, labels = images.to(device), labels.to(device)\n",
    "                labels_list.append(labels)\n",
    "                \n",
    "                test = Variable(images.view(100, 1, 28, 28))\n",
    "                \n",
    "                outputs = model(test)\n",
    "                \n",
    "                predictions = torch.max(outputs, 1)[1].to(device)\n",
    "                predictions_list.append(predictions)\n",
    "                correct += (predictions == labels).sum()\n",
    "                \n",
    "                total += len(labels)\n",
    "                \n",
    "            accuracy = correct * 100 / total\n",
    "            loss_list.append(loss.data)\n",
    "            iteration_list.append(count)\n",
    "            accuracy_list.append(accuracy)\n",
    "        \n",
    "            if not (count % 500):\n",
    "                print(\"iteration:{}, Loss:{}, Accuracy: {}%\".format(count, loss.data, accuracy))"
   ]
  },
  {
   "cell_type": "code",
   "execution_count": null,
   "id": "579ab18c",
   "metadata": {},
   "outputs": [],
   "source": [
    "#+matplotlib을 이용한 시각화\n",
    "\n",
    "#plt.plot(iteration_list, loss_list)\n",
    "#plt.xlabel(\"Number of iteration\")\n",
    "#plt.ylabel(\"Loss\")\n",
    "#plt.title(\"iteration vs Loss\")\n",
    "#plt.show()"
   ]
  },
  {
   "cell_type": "code",
   "execution_count": 103,
   "id": "f15af2ea",
   "metadata": {},
   "outputs": [
    {
     "name": "stdout",
     "output_type": "stream",
     "text": [
      "Accuracy of T-shirt/Top: 7.60%\n",
      "Accuracy of Trouser: 5.10%\n",
      "Accuracy of Pullover: 23.00%\n",
      "Accuracy of Dress: 0.30%\n",
      "Accuracy of Coat: 2.10%\n",
      "Accuracy of Sandal: 0.00%\n",
      "Accuracy of Shirt: 12.40%\n",
      "Accuracy of Snearker: 0.00%\n",
      "Accuracy of Bag: 26.80%\n",
      "Accuracy of Ankle Boot: 43.30%\n"
     ]
    }
   ],
   "source": [
    "class_correct = [0. for _ in range(10)]\n",
    "total_correct = [0. for _ in range(10)]\n",
    "\n",
    "with torch.no_grad():\n",
    "    for images, labels in test_loader:\n",
    "        images, labels = images.to(device), labels.to(device)\n",
    "        test = Variable(images)\n",
    "        outputs = model(test)\n",
    "        predicted = torch.max(outputs,1)[1]\n",
    "        c = (predicted == labels).squeeze()\n",
    "        \n",
    "        for i in range(100):\n",
    "            label = labels[i]\n",
    "            class_correct[label] += c[i].item()\n",
    "            total_correct[label] += 1\n",
    "for i in range(10):\n",
    "    print(\"Accuracy of {}: {:.2f}%\".format(output_label(i), \n",
    "                                           class_correct[i] * 100 / total_correct[i]))"
   ]
  },
  {
   "cell_type": "code",
   "execution_count": null,
   "id": "e0b65c8a",
   "metadata": {},
   "outputs": [],
   "source": []
  },
  {
   "cell_type": "code",
   "execution_count": null,
   "id": "e0c2540a",
   "metadata": {},
   "outputs": [],
   "source": []
  }
 ],
 "metadata": {
  "kernelspec": {
   "display_name": "Python 3 (ipykernel)",
   "language": "python",
   "name": "python3"
  },
  "language_info": {
   "codemirror_mode": {
    "name": "ipython",
    "version": 3
   },
   "file_extension": ".py",
   "mimetype": "text/x-python",
   "name": "python",
   "nbconvert_exporter": "python",
   "pygments_lexer": "ipython3",
   "version": "3.8.12"
  }
 },
 "nbformat": 4,
 "nbformat_minor": 5
}
